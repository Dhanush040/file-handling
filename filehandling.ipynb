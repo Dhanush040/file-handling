{
  "nbformat": 4,
  "nbformat_minor": 0,
  "metadata": {
    "colab": {
      "provenance": []
    },
    "kernelspec": {
      "name": "python3",
      "display_name": "Python 3"
    },
    "language_info": {
      "name": "python"
    }
  },
  "cells": [
    {
      "cell_type": "markdown",
      "source": [
        "4. Write a Python program using multithreading where one thread adds numbers to a list, and another\n",
        "thread removes numbers from the list. Implement a mechanism to avoid race conditions using\n",
        "threading.Lock."
      ],
      "metadata": {
        "id": "GJWrwASy2U_7"
      }
    },
    {
      "cell_type": "code",
      "source": [
        "import threading\n",
        "import time\n",
        "\n",
        "# Create a list to store numbers\n",
        "numbers = []\n",
        "\n",
        "# Create a lock object\n",
        "lock = threading.Lock()\n",
        "\n",
        "# Function to add numbers to the list\n",
        "def add_numbers():\n",
        "  global numbers\n",
        "  for i in range(10):\n",
        "    with lock:\n",
        "      numbers.append(i)\n",
        "    time.sleep(0.1)\n",
        "\n",
        "# Function to remove numbers from the list\n",
        "def remove_numbers():\n",
        "  global numbers\n",
        "  for i in range(10):\n",
        "    with lock:\n",
        "      if numbers:\n",
        "        numbers.pop()\n",
        "    time.sleep(0.1)\n",
        "\n",
        "# Create two threads\n",
        "add_thread = threading.Thread(target=add_numbers)\n",
        "remove_thread = threading.Thread(target=remove_numbers)\n",
        "\n",
        "# Start the threads\n",
        "add_thread.start()\n",
        "remove_thread.start()\n",
        "\n",
        "# Wait for the threads to finish\n",
        "add_thread.join()\n",
        "remove_thread.join()"
      ],
      "metadata": {
        "id": "YYOux4bc1SOr"
      },
      "execution_count": 2,
      "outputs": []
    },
    {
      "cell_type": "markdown",
      "source": [
        "7. Create a program that uses a thread pool to calculate the factorial of numbers from 1 to 10 concurrently.\n",
        "Use concurrent.futures.ThreadPoolExecutor to manage the threads"
      ],
      "metadata": {
        "id": "Z5lRwt9H2PJA"
      }
    },
    {
      "cell_type": "code",
      "source": [
        "from concurrent.futures import ThreadPoolExecutor\n",
        "import math\n",
        "\n",
        "# Function to calculate factorial\n",
        "def factorial(n):\n",
        "  return math.factorial(n)\n",
        "\n",
        "# Create a thread pool with 5 worker threads\n",
        "with ThreadPoolExecutor(max_workers=5) as executor:\n",
        "  # Submit tasks to calculate factorials from 1 to 10\n",
        "  results = executor.map(factorial, range(1, 11))\n",
        "\n",
        "# Print the results\n",
        "for result in results:\n",
        "  print(result)"
      ],
      "metadata": {
        "colab": {
          "base_uri": "https://localhost:8080/"
        },
        "id": "-2ya7e652ZZY",
        "outputId": "a703454e-7be3-44b3-af24-fd92d829f018"
      },
      "execution_count": 3,
      "outputs": [
        {
          "output_type": "stream",
          "name": "stdout",
          "text": [
            "1\n",
            "2\n",
            "6\n",
            "24\n",
            "120\n",
            "720\n",
            "5040\n",
            "40320\n",
            "362880\n",
            "3628800\n"
          ]
        }
      ]
    },
    {
      "cell_type": "markdown",
      "source": [
        "8. Create a Python program that uses multiprocessing.Pool to compute the square of numbers from 1 to 10 in\n",
        "parallel. Measure the time taken to perform this computation using a pool of different sizes (e.g., 2, 4, 8\n",
        "processes)."
      ],
      "metadata": {
        "id": "Y12UBVFp2zPT"
      }
    },
    {
      "cell_type": "code",
      "source": [
        "import multiprocessing\n",
        "import time\n",
        "\n",
        "# Function to calculate the square of a number\n",
        "def square(n):\n",
        "  return n * n\n",
        "\n",
        "if __name__ == '__main__':\n",
        "  # Numbers to be squared\n",
        "  numbers = range(1, 11)\n",
        "\n",
        "  # Pool sizes to test\n",
        "  pool_sizes = [2, 4, 8]\n",
        "\n",
        "  for pool_size in pool_sizes:\n",
        "    # Create a pool of processes\n",
        "    with multiprocessing.Pool(processes=pool_size) as pool:\n",
        "      start_time = time.time()\n",
        "      # Apply the square function to each number in parallel\n",
        "      results = pool.map(square, numbers)\n",
        "      end_time = time.time()\n",
        "\n",
        "    print(f\"Pool size: {pool_size}, Time taken: {end_time - start_time:.4f} seconds\")"
      ],
      "metadata": {
        "colab": {
          "base_uri": "https://localhost:8080/"
        },
        "id": "utZOvKv32_Ok",
        "outputId": "d68e9dfd-a71e-495e-e3f4-dee08c7f806b"
      },
      "execution_count": 4,
      "outputs": [
        {
          "output_type": "stream",
          "name": "stdout",
          "text": [
            "Pool size: 2, Time taken: 0.0023 seconds\n",
            "Pool size: 4, Time taken: 0.0123 seconds\n",
            "Pool size: 8, Time taken: 0.0124 seconds\n"
          ]
        }
      ]
    }
  ]
}